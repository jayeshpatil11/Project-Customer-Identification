{
 "cells": [
  {
   "cell_type": "code",
   "execution_count": null,
   "id": "9f9fa4ae-9e66-45c4-8a8a-55f2772777b6",
   "metadata": {},
   "outputs": [],
   "source": []
  }
 ],
 "metadata": {
  "kernelspec": {
   "display_name": "",
   "name": ""
  },
  "language_info": {
   "name": ""
  }
 },
 "nbformat": 4,
 "nbformat_minor": 5
}
